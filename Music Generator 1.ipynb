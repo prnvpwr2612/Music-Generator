{
 "cells": [
  {
   "cell_type": "code",
   "execution_count": 7,
   "metadata": {},
   "outputs": [
    {
     "name": "stdout",
     "output_type": "stream",
     "text": [
      "{0.0} <music21.metadata.Metadata object at 0x197c2d46510>\n",
      "{0.0} <music21.stream.Measure 1 offset=0.0>\n",
      "    {0.0} <music21.instrument.Piano 'Piano'>\n",
      "    {0.0} <music21.clef.TrebleClef>\n",
      "    {0.0} <music21.tempo.MetronomeMark animato Quarter=120>\n",
      "    {0.0} <music21.meter.TimeSignature 4/4>\n",
      "    {0.0} <music21.chord.Chord A2 G#3 A3 B-3 E-4 E4 F4 A4 C5 G#6 A6 B-6 B6 C7 C#7 D7 E-7 E7 F7 F#7>\n",
      "    {0.3333} <music21.chord.Chord F#2 G2 F#3 G3 C#4 D4 A4 B-4 B4 C5 C#5 D5 E5 G5 F#6 G6 B6>\n",
      "    {0.5} <music21.chord.Chord F#2 G2 F3 F#3 G3 C4 C#4 D4 A4 B-4 B4 C5 C#5 D5 E-5 E5 G5 F#6 G6 B6 D7>\n",
      "    {0.5833} <music21.chord.Chord F3 F#3 C4 C#4 B-4 C5 C#5 E-5 G6 D7>\n",
      "    {0.75} <music21.chord.Chord B-3 B3 C4 D4 F#4 G4 G#4 B-4 B4 C5 C#5 D5 E-5 E-7 E7>\n",
      "    {1.0} <music21.chord.Chord C#3 C4>\n",
      "    {1.25} <music21.note.Rest 2.75ql>\n",
      "    {4.0} <music21.bar.Barline type=final>\n"
     ]
    }
   ],
   "source": [
    "from music21 import converter\n",
    "file = r\"C:\\Users\\ppawa\\Pranav\\Study\\Coding\\Generative Deep Learning\\Projects\\Music-Generator\\Talking Ben Saying Yes Sound Effect.mid\"\n",
    "original_score = converter.parse(file).chordify()\n",
    "original_score.show('text')"
   ]
  },
  {
   "cell_type": "markdown",
   "metadata": {},
   "source": []
  },
  {
   "cell_type": "markdown",
   "metadata": {},
   "source": []
  }
 ],
 "metadata": {
  "kernelspec": {
   "display_name": "Python 3",
   "language": "python",
   "name": "python3"
  },
  "language_info": {
   "codemirror_mode": {
    "name": "ipython",
    "version": 3
   },
   "file_extension": ".py",
   "mimetype": "text/x-python",
   "name": "python",
   "nbconvert_exporter": "python",
   "pygments_lexer": "ipython3",
   "version": "3.12.3"
  }
 },
 "nbformat": 4,
 "nbformat_minor": 2
}
